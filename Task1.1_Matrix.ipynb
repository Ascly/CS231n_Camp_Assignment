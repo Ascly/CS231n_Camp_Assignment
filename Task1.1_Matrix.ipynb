{
 "cells": [
  {
   "cell_type": "code",
   "execution_count": 1,
   "metadata": {},
   "outputs": [
    {
     "name": "stdout",
     "output_type": "stream",
     "text": [
      "[22, 28]\n",
      "[49, 64]\n",
      "Error! These two can not be dot producted.\n"
     ]
    }
   ],
   "source": [
    "class matrix():  #矩阵类\n",
    "    def __init__(self,row,column,data_list=[]):\n",
    "        if row>=1 and column>=1:\n",
    "            self.row=row\n",
    "            self.column=column\n",
    "            if len(data_list)>0:\n",
    "                self.data_list=data_list[:]\n",
    "            else:\n",
    "                self.data_list=[[0 for j in range(column)] for i in range(row)]                \n",
    "    def mul(self,matrix_B):  #矩阵点乘\n",
    "        if self.column ==matrix_B.row:\n",
    "            result=matrix(self.row, matrix_B.column)\n",
    "            for i in range(self.row):\n",
    "                for j in range(matrix_B.column):\n",
    "                    for k in range(self.column):\n",
    "                        result.data_list[i][j]+=self.data_list[i][k]*matrix_B.data_list[k][j]\n",
    "            return result                         \n",
    "        else:\n",
    "            print(\"Error! These two can not be dot producted.\")\n",
    "            return None\n",
    "    def m_print(self):    #打印矩阵\n",
    "        for i in range(self.row):\n",
    "            print(self.data_list[i])\n",
    "#测试数据\n",
    "a=[[1,2,3],[4,5,6]]\n",
    "b=[[1,2],[3,4],[5,6]]\n",
    "\n",
    "matrix_A=matrix(2,3,a)\n",
    "matrix_B=matrix(3,2,b)\n",
    "\n",
    "result_AB=matrix_A.mul(matrix_B)\n",
    "result_AB.m_print()\n",
    "\n",
    "result_AA=matrix_A.mul(matrix_A)    "
   ]
  },
  {
   "cell_type": "code",
   "execution_count": 2,
   "metadata": {},
   "outputs": [
    {
     "name": "stdout",
     "output_type": "stream",
     "text": [
      "[[22 28]\n",
      " [49 64]]\n"
     ]
    }
   ],
   "source": [
    "#Numpy验证\n",
    "import numpy as np\n",
    "numpy_A=np.array(a)\n",
    "numpy_B=np.array(b)\n",
    "numpy_AB=numpy_A.dot(numpy_B)\n",
    "print(numpy_AB)"
   ]
  }
 ],
 "metadata": {
  "kernelspec": {
   "display_name": "Python 3",
   "language": "python",
   "name": "python3"
  },
  "language_info": {
   "codemirror_mode": {
    "name": "ipython",
    "version": 3
   },
   "file_extension": ".py",
   "mimetype": "text/x-python",
   "name": "python",
   "nbconvert_exporter": "python",
   "pygments_lexer": "ipython3",
   "version": "3.6.2"
  },
  "toc": {
   "base_numbering": 1,
   "nav_menu": {},
   "number_sections": true,
   "sideBar": true,
   "skip_h1_title": false,
   "title_cell": "Table of Contents",
   "title_sidebar": "Contents",
   "toc_cell": false,
   "toc_position": {},
   "toc_section_display": true,
   "toc_window_display": false
  }
 },
 "nbformat": 4,
 "nbformat_minor": 2
}
